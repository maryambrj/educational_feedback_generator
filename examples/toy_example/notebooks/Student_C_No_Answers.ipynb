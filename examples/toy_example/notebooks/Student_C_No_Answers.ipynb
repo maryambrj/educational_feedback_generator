{
 "cells": [
  {
   "cell_type": "markdown",
   "metadata": {
    "tags": ["task"]
   },
   "source": [
    "# Toy Data Analysis Assignment\n",
    "\n",
    "**Student:** Carol Davis  \n",
    "**Date:** 2024-01-15\n",
    "\n",
    "## Part 1: Load and Explore the Dataset\n",
    "\n",
    "In this section, you will load the student dataset and perform basic exploration."
   ]
  },
  {
   "cell_type": "code",
   "execution_count": null,
   "metadata": {},
   "outputs": [],
   "source": [
    "# TODO: Load and explore the dataset"
   ]
  },
  {
   "cell_type": "markdown",
   "metadata": {
    "tags": ["task"]
   },
   "source": [
    "## Part 2: Create Visualizations and Analyze Patterns\n",
    "\n",
    "Create meaningful visualizations to understand the relationships in the data."
   ]
  },
  {
   "cell_type": "code",
   "execution_count": null,
   "metadata": {},
   "outputs": [],
   "source": [
    "# TODO: Create visualizations"
   ]
  },
  {
   "cell_type": "markdown",
   "metadata": {
    "tags": ["task"]
   },
   "source": [
    "## Part 3: Summary and Conclusions\n",
    "\n",
    "Provide a comprehensive summary of your findings."
   ]
  },
  {
   "cell_type": "markdown",
   "metadata": {
    "tags": ["text answer"]
   },
   "source": [
    "✏️ **Answer:** \n",
    "\n",
    "*Put your answers here!*"
   ]
  }
 ],
 "metadata": {
  "kernelspec": {
   "display_name": "Python 3",
   "language": "python",
   "name": "python3"
  },
  "language_info": {
   "codemirror_mode": {
    "name": "ipython",
    "version": 3
   },
   "file_extension": ".py",
   "mimetype": "text/x-python",
   "name": "python",
   "nbconvert_exporter": "python",
   "pygments_lexer": "ipython3",
   "version": "3.8.5"
  }
 },
 "nbformat": 4,
 "nbformat_minor": 4
}
